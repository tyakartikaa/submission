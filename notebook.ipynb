{
 "cells": [
  {
   "cell_type": "markdown",
   "metadata": {
    "id": "H9wADwK78DCz"
   },
   "source": [
    "# Proyek Analisis Data: Bike Sharing Dataset\n",
    "- **Nama:** Kartika Rahma Sulistyawati\n",
    "- **Email:** tyakartika24@gmail.com\n",
    "- **ID Dicoding:** kartika_rahma_s"
   ]
  },
  {
   "cell_type": "markdown",
   "metadata": {
    "id": "eE0raob58DC0"
   },
   "source": [
    "## Menentukan Pertanyaan Bisnis"
   ]
  },
  {
   "cell_type": "markdown",
   "metadata": {
    "id": "GmQeQ5YF8DC0"
   },
   "source": [
    "- Pertanyaan 1: Bagaimana distribusi peminjaman sepeda berdasarkan weathersit?\n",
    "- Pertanyaan 2: Bagaimana variasi penyewaan sepeda sepanjang hari?"
   ]
  },
  {
   "cell_type": "markdown",
   "metadata": {
    "id": "H-z4QGlO8DC1"
   },
   "source": [
    "## Import Semua Packages/Library yang Digunakan"
   ]
  },
  {
   "cell_type": "code",
   "execution_count": 106,
   "metadata": {
    "id": "FVYwaObI8DC1"
   },
   "outputs": [],
   "source": [
    "import numpy as np\n",
    "import pandas as pd\n",
    "import matplotlib.pyplot as plt\n",
    "import seaborn as sns"
   ]
  },
  {
   "cell_type": "markdown",
   "metadata": {
    "id": "h_Sh51Xy8DC1"
   },
   "source": [
    "## Data Wrangling"
   ]
  },
  {
   "cell_type": "markdown",
   "metadata": {
    "id": "sXU2GBYu8DC1"
   },
   "source": [
    "### Gathering Data"
   ]
  },
  {
   "cell_type": "markdown",
   "metadata": {
    "id": "bainhGFyY8VB"
   },
   "source": [
    "Memuat tabel day dari file day.csv menjadi sebuah DataFrame"
   ]
  },
  {
   "cell_type": "code",
   "execution_count": 110,
   "metadata": {
    "id": "zjCBk1BI8DC1"
   },
   "outputs": [],
   "source": [
    "day_df = pd.read_csv(\"data/day.csv\")"
   ]
  },
  {
   "cell_type": "markdown",
   "metadata": {
    "id": "V5DbA95QaK_d"
   },
   "source": [
    "Menampilkan 5 baris pertama dari DataFrame day_df"
   ]
  },
  {
   "cell_type": "code",
   "execution_count": 112,
   "metadata": {
    "colab": {
     "base_uri": "https://localhost:8080/",
     "height": 313
    },
    "id": "dLh46LyFaQrH",
    "outputId": "5d434175-7fac-43ba-d001-a3caf5a918d9"
   },
   "outputs": [
    {
     "data": {
      "text/html": [
       "<div>\n",
       "<style scoped>\n",
       "    .dataframe tbody tr th:only-of-type {\n",
       "        vertical-align: middle;\n",
       "    }\n",
       "\n",
       "    .dataframe tbody tr th {\n",
       "        vertical-align: top;\n",
       "    }\n",
       "\n",
       "    .dataframe thead th {\n",
       "        text-align: right;\n",
       "    }\n",
       "</style>\n",
       "<table border=\"1\" class=\"dataframe\">\n",
       "  <thead>\n",
       "    <tr style=\"text-align: right;\">\n",
       "      <th></th>\n",
       "      <th>instant</th>\n",
       "      <th>dteday</th>\n",
       "      <th>season</th>\n",
       "      <th>yr</th>\n",
       "      <th>mnth</th>\n",
       "      <th>holiday</th>\n",
       "      <th>weekday</th>\n",
       "      <th>workingday</th>\n",
       "      <th>weathersit</th>\n",
       "      <th>temp</th>\n",
       "      <th>atemp</th>\n",
       "      <th>hum</th>\n",
       "      <th>windspeed</th>\n",
       "      <th>casual</th>\n",
       "      <th>registered</th>\n",
       "      <th>cnt</th>\n",
       "    </tr>\n",
       "  </thead>\n",
       "  <tbody>\n",
       "    <tr>\n",
       "      <th>0</th>\n",
       "      <td>1</td>\n",
       "      <td>2011-01-01</td>\n",
       "      <td>1</td>\n",
       "      <td>0</td>\n",
       "      <td>1</td>\n",
       "      <td>0</td>\n",
       "      <td>6</td>\n",
       "      <td>0</td>\n",
       "      <td>2</td>\n",
       "      <td>0.344167</td>\n",
       "      <td>0.363625</td>\n",
       "      <td>0.805833</td>\n",
       "      <td>0.160446</td>\n",
       "      <td>331</td>\n",
       "      <td>654</td>\n",
       "      <td>985</td>\n",
       "    </tr>\n",
       "    <tr>\n",
       "      <th>1</th>\n",
       "      <td>2</td>\n",
       "      <td>2011-01-02</td>\n",
       "      <td>1</td>\n",
       "      <td>0</td>\n",
       "      <td>1</td>\n",
       "      <td>0</td>\n",
       "      <td>0</td>\n",
       "      <td>0</td>\n",
       "      <td>2</td>\n",
       "      <td>0.363478</td>\n",
       "      <td>0.353739</td>\n",
       "      <td>0.696087</td>\n",
       "      <td>0.248539</td>\n",
       "      <td>131</td>\n",
       "      <td>670</td>\n",
       "      <td>801</td>\n",
       "    </tr>\n",
       "    <tr>\n",
       "      <th>2</th>\n",
       "      <td>3</td>\n",
       "      <td>2011-01-03</td>\n",
       "      <td>1</td>\n",
       "      <td>0</td>\n",
       "      <td>1</td>\n",
       "      <td>0</td>\n",
       "      <td>1</td>\n",
       "      <td>1</td>\n",
       "      <td>1</td>\n",
       "      <td>0.196364</td>\n",
       "      <td>0.189405</td>\n",
       "      <td>0.437273</td>\n",
       "      <td>0.248309</td>\n",
       "      <td>120</td>\n",
       "      <td>1229</td>\n",
       "      <td>1349</td>\n",
       "    </tr>\n",
       "    <tr>\n",
       "      <th>3</th>\n",
       "      <td>4</td>\n",
       "      <td>2011-01-04</td>\n",
       "      <td>1</td>\n",
       "      <td>0</td>\n",
       "      <td>1</td>\n",
       "      <td>0</td>\n",
       "      <td>2</td>\n",
       "      <td>1</td>\n",
       "      <td>1</td>\n",
       "      <td>0.200000</td>\n",
       "      <td>0.212122</td>\n",
       "      <td>0.590435</td>\n",
       "      <td>0.160296</td>\n",
       "      <td>108</td>\n",
       "      <td>1454</td>\n",
       "      <td>1562</td>\n",
       "    </tr>\n",
       "    <tr>\n",
       "      <th>4</th>\n",
       "      <td>5</td>\n",
       "      <td>2011-01-05</td>\n",
       "      <td>1</td>\n",
       "      <td>0</td>\n",
       "      <td>1</td>\n",
       "      <td>0</td>\n",
       "      <td>3</td>\n",
       "      <td>1</td>\n",
       "      <td>1</td>\n",
       "      <td>0.226957</td>\n",
       "      <td>0.229270</td>\n",
       "      <td>0.436957</td>\n",
       "      <td>0.186900</td>\n",
       "      <td>82</td>\n",
       "      <td>1518</td>\n",
       "      <td>1600</td>\n",
       "    </tr>\n",
       "  </tbody>\n",
       "</table>\n",
       "</div>"
      ],
      "text/plain": [
       "   instant      dteday  season  yr  mnth  holiday  weekday  workingday  \\\n",
       "0        1  2011-01-01       1   0     1        0        6           0   \n",
       "1        2  2011-01-02       1   0     1        0        0           0   \n",
       "2        3  2011-01-03       1   0     1        0        1           1   \n",
       "3        4  2011-01-04       1   0     1        0        2           1   \n",
       "4        5  2011-01-05       1   0     1        0        3           1   \n",
       "\n",
       "   weathersit      temp     atemp       hum  windspeed  casual  registered  \\\n",
       "0           2  0.344167  0.363625  0.805833   0.160446     331         654   \n",
       "1           2  0.363478  0.353739  0.696087   0.248539     131         670   \n",
       "2           1  0.196364  0.189405  0.437273   0.248309     120        1229   \n",
       "3           1  0.200000  0.212122  0.590435   0.160296     108        1454   \n",
       "4           1  0.226957  0.229270  0.436957   0.186900      82        1518   \n",
       "\n",
       "    cnt  \n",
       "0   985  \n",
       "1   801  \n",
       "2  1349  \n",
       "3  1562  \n",
       "4  1600  "
      ]
     },
     "execution_count": 112,
     "metadata": {},
     "output_type": "execute_result"
    }
   ],
   "source": [
    "day_df.head()"
   ]
  },
  {
   "cell_type": "markdown",
   "metadata": {
    "id": "cqnQE35hZa9V"
   },
   "source": [
    "Memuat tabel hour dari file hour.csv menjai sebuah DataFrame"
   ]
  },
  {
   "cell_type": "code",
   "execution_count": 114,
   "metadata": {
    "id": "slhR82-UZg98"
   },
   "outputs": [],
   "source": [
    "hour_df = pd.read_csv(\"data/hour.csv\")"
   ]
  },
  {
   "cell_type": "markdown",
   "metadata": {
    "id": "XDqhCeBiaizd"
   },
   "source": [
    "Menampilkan 5 baris pertama dari DataFrame hour_df"
   ]
  },
  {
   "cell_type": "code",
   "execution_count": 116,
   "metadata": {
    "colab": {
     "base_uri": "https://localhost:8080/",
     "height": 313
    },
    "id": "7jfniGi8aosU",
    "outputId": "4dc28fb0-d2f9-4710-a514-86c4c623b4da"
   },
   "outputs": [
    {
     "data": {
      "text/html": [
       "<div>\n",
       "<style scoped>\n",
       "    .dataframe tbody tr th:only-of-type {\n",
       "        vertical-align: middle;\n",
       "    }\n",
       "\n",
       "    .dataframe tbody tr th {\n",
       "        vertical-align: top;\n",
       "    }\n",
       "\n",
       "    .dataframe thead th {\n",
       "        text-align: right;\n",
       "    }\n",
       "</style>\n",
       "<table border=\"1\" class=\"dataframe\">\n",
       "  <thead>\n",
       "    <tr style=\"text-align: right;\">\n",
       "      <th></th>\n",
       "      <th>instant</th>\n",
       "      <th>dteday</th>\n",
       "      <th>season</th>\n",
       "      <th>yr</th>\n",
       "      <th>mnth</th>\n",
       "      <th>hr</th>\n",
       "      <th>holiday</th>\n",
       "      <th>weekday</th>\n",
       "      <th>workingday</th>\n",
       "      <th>weathersit</th>\n",
       "      <th>temp</th>\n",
       "      <th>atemp</th>\n",
       "      <th>hum</th>\n",
       "      <th>windspeed</th>\n",
       "      <th>casual</th>\n",
       "      <th>registered</th>\n",
       "      <th>cnt</th>\n",
       "    </tr>\n",
       "  </thead>\n",
       "  <tbody>\n",
       "    <tr>\n",
       "      <th>0</th>\n",
       "      <td>1</td>\n",
       "      <td>2011-01-01</td>\n",
       "      <td>1</td>\n",
       "      <td>0</td>\n",
       "      <td>1</td>\n",
       "      <td>0</td>\n",
       "      <td>0</td>\n",
       "      <td>6</td>\n",
       "      <td>0</td>\n",
       "      <td>1</td>\n",
       "      <td>0.24</td>\n",
       "      <td>0.2879</td>\n",
       "      <td>0.81</td>\n",
       "      <td>0.0</td>\n",
       "      <td>3</td>\n",
       "      <td>13</td>\n",
       "      <td>16</td>\n",
       "    </tr>\n",
       "    <tr>\n",
       "      <th>1</th>\n",
       "      <td>2</td>\n",
       "      <td>2011-01-01</td>\n",
       "      <td>1</td>\n",
       "      <td>0</td>\n",
       "      <td>1</td>\n",
       "      <td>1</td>\n",
       "      <td>0</td>\n",
       "      <td>6</td>\n",
       "      <td>0</td>\n",
       "      <td>1</td>\n",
       "      <td>0.22</td>\n",
       "      <td>0.2727</td>\n",
       "      <td>0.80</td>\n",
       "      <td>0.0</td>\n",
       "      <td>8</td>\n",
       "      <td>32</td>\n",
       "      <td>40</td>\n",
       "    </tr>\n",
       "    <tr>\n",
       "      <th>2</th>\n",
       "      <td>3</td>\n",
       "      <td>2011-01-01</td>\n",
       "      <td>1</td>\n",
       "      <td>0</td>\n",
       "      <td>1</td>\n",
       "      <td>2</td>\n",
       "      <td>0</td>\n",
       "      <td>6</td>\n",
       "      <td>0</td>\n",
       "      <td>1</td>\n",
       "      <td>0.22</td>\n",
       "      <td>0.2727</td>\n",
       "      <td>0.80</td>\n",
       "      <td>0.0</td>\n",
       "      <td>5</td>\n",
       "      <td>27</td>\n",
       "      <td>32</td>\n",
       "    </tr>\n",
       "    <tr>\n",
       "      <th>3</th>\n",
       "      <td>4</td>\n",
       "      <td>2011-01-01</td>\n",
       "      <td>1</td>\n",
       "      <td>0</td>\n",
       "      <td>1</td>\n",
       "      <td>3</td>\n",
       "      <td>0</td>\n",
       "      <td>6</td>\n",
       "      <td>0</td>\n",
       "      <td>1</td>\n",
       "      <td>0.24</td>\n",
       "      <td>0.2879</td>\n",
       "      <td>0.75</td>\n",
       "      <td>0.0</td>\n",
       "      <td>3</td>\n",
       "      <td>10</td>\n",
       "      <td>13</td>\n",
       "    </tr>\n",
       "    <tr>\n",
       "      <th>4</th>\n",
       "      <td>5</td>\n",
       "      <td>2011-01-01</td>\n",
       "      <td>1</td>\n",
       "      <td>0</td>\n",
       "      <td>1</td>\n",
       "      <td>4</td>\n",
       "      <td>0</td>\n",
       "      <td>6</td>\n",
       "      <td>0</td>\n",
       "      <td>1</td>\n",
       "      <td>0.24</td>\n",
       "      <td>0.2879</td>\n",
       "      <td>0.75</td>\n",
       "      <td>0.0</td>\n",
       "      <td>0</td>\n",
       "      <td>1</td>\n",
       "      <td>1</td>\n",
       "    </tr>\n",
       "  </tbody>\n",
       "</table>\n",
       "</div>"
      ],
      "text/plain": [
       "   instant      dteday  season  yr  mnth  hr  holiday  weekday  workingday  \\\n",
       "0        1  2011-01-01       1   0     1   0        0        6           0   \n",
       "1        2  2011-01-01       1   0     1   1        0        6           0   \n",
       "2        3  2011-01-01       1   0     1   2        0        6           0   \n",
       "3        4  2011-01-01       1   0     1   3        0        6           0   \n",
       "4        5  2011-01-01       1   0     1   4        0        6           0   \n",
       "\n",
       "   weathersit  temp   atemp   hum  windspeed  casual  registered  cnt  \n",
       "0           1  0.24  0.2879  0.81        0.0       3          13   16  \n",
       "1           1  0.22  0.2727  0.80        0.0       8          32   40  \n",
       "2           1  0.22  0.2727  0.80        0.0       5          27   32  \n",
       "3           1  0.24  0.2879  0.75        0.0       3          10   13  \n",
       "4           1  0.24  0.2879  0.75        0.0       0           1    1  "
      ]
     },
     "execution_count": 116,
     "metadata": {},
     "output_type": "execute_result"
    }
   ],
   "source": [
    "hour_df.head()"
   ]
  },
  {
   "cell_type": "markdown",
   "metadata": {
    "id": "MMi6xGaDkbCi"
   },
   "source": [
    "**Insight Gathering Data:**\n",
    "- dataset day.csv merupakan jumlah bike sharing yang dikumpulkan per hari.\n",
    "- dataset hour.csv merupakan jumlah bike sharing yang dikumpulkan per jam.\n",
    "- baik hour.csv maupun day.csv memiliki kolom berikut, kecuali hr yang tidak tersedia di day.csv:\n",
    "  - instant: indeks catatan\n",
    "  - dteday: tanggal\n",
    "  - season: musim (1:springer, 2:summer, 3:fall, 4:winter)\n",
    "  - yr: tahun (0:2011, 1: 2012)\n",
    "  - mnth: bulan (1 hingga 12)\n",
    "  - hr: jam (0 hingga 23)\n",
    "  - holiday: weather day libur atau tidak\n",
    "  - weekday: hari dalam seminggu\n",
    "  - workingday: jika hari tersebut bukan akhir pekan atau hari libur adalah 1, jika tidak adalah 0\n",
    "  - weathersit:\n",
    "    - 1: bersih, sedikit awan, berawan sebagian. Disini saya mendefinisikannya sebagai cerah\n",
    "    - 2: kabut+berawan, kabut+awan pecah, kabut+sedikit berawan, kabut. Disini saya mendefinisikannya sebagai berkabut\n",
    "    - 3: salju ringan, hujan ringan+badai petir+ awan tersebar, hujan ringan+awan tersebar. Disini saja mendefinisikannya sebagai hujan\n",
    "    - 4: hujan lebat+es palet+badai petir+kabut, salju+kabut. Disini saya mendefinisikannya sebagai ekstrem\n",
    "  - temp: suhu normal dalam celcius. nilai dibagi menjadi 41 (maks)\n",
    "  - atemp: suhu normalized feeling dalam celcius. nilai dibagi menjadi 50 (maks)\n",
    "  - hum: kelembaban normal. nilai dibagi menjadi 100 (maks)\n",
    "  - windspeed: kecepatan angin normal. nilai dibagi menjadi 67 (maks)\n",
    "  - casual: jumlah pengguna casual\n",
    "  - registered: jumlah pengguna terdaftar\n",
    "  - cnt: jumlah total sepeda sewaan termasuk casual dan terdaftar"
   ]
  },
  {
   "cell_type": "markdown",
   "metadata": {
    "id": "FHSiqaZp8DC1"
   },
   "source": [
    "### Assessing Data"
   ]
  },
  {
   "cell_type": "markdown",
   "metadata": {
    "id": "ogvP7_lVbKQs"
   },
   "source": [
    "#### Menilai data day_df"
   ]
  },
  {
   "cell_type": "code",
   "execution_count": 120,
   "metadata": {
    "colab": {
     "base_uri": "https://localhost:8080/"
    },
    "id": "ax-3tEjc9Cj1",
    "outputId": "b2d5115d-e1a5-4f82-c636-909345c042ab"
   },
   "outputs": [
    {
     "name": "stdout",
     "output_type": "stream",
     "text": [
      "<class 'pandas.core.frame.DataFrame'>\n",
      "RangeIndex: 731 entries, 0 to 730\n",
      "Data columns (total 16 columns):\n",
      " #   Column      Non-Null Count  Dtype  \n",
      "---  ------      --------------  -----  \n",
      " 0   instant     731 non-null    int64  \n",
      " 1   dteday      731 non-null    object \n",
      " 2   season      731 non-null    int64  \n",
      " 3   yr          731 non-null    int64  \n",
      " 4   mnth        731 non-null    int64  \n",
      " 5   holiday     731 non-null    int64  \n",
      " 6   weekday     731 non-null    int64  \n",
      " 7   workingday  731 non-null    int64  \n",
      " 8   weathersit  731 non-null    int64  \n",
      " 9   temp        731 non-null    float64\n",
      " 10  atemp       731 non-null    float64\n",
      " 11  hum         731 non-null    float64\n",
      " 12  windspeed   731 non-null    float64\n",
      " 13  casual      731 non-null    int64  \n",
      " 14  registered  731 non-null    int64  \n",
      " 15  cnt         731 non-null    int64  \n",
      "dtypes: float64(4), int64(11), object(1)\n",
      "memory usage: 91.5+ KB\n"
     ]
    }
   ],
   "source": [
    "day_df.info()"
   ]
  },
  {
   "cell_type": "markdown",
   "metadata": {
    "id": "Q4hU5cShlo3d"
   },
   "source": [
    "Jumlah data pada day_df telah lengkap, tidak ada missing value di dalamnya. Namun, terdapat kesalahan tipe data untuk kolom dteday yang seharusnya direpresentasikan sebagai tipe data datetime, bukan object."
   ]
  },
  {
   "cell_type": "markdown",
   "metadata": {
    "id": "vyPZs7ramEIV"
   },
   "source": [
    "Memeriksa duplikasi dan ringkasan parameter statistik dari kolom numerik pada day_df. proses ini dilakukan dengan menjalankan kode berikut."
   ]
  },
  {
   "cell_type": "code",
   "execution_count": 123,
   "metadata": {
    "colab": {
     "base_uri": "https://localhost:8080/",
     "height": 337
    },
    "id": "7kuyuWE9mQE3",
    "outputId": "add781c9-d498-45fb-dd58-c6c335fdd071"
   },
   "outputs": [
    {
     "name": "stdout",
     "output_type": "stream",
     "text": [
      "Jumlah duplikasi:  0\n"
     ]
    },
    {
     "data": {
      "text/html": [
       "<div>\n",
       "<style scoped>\n",
       "    .dataframe tbody tr th:only-of-type {\n",
       "        vertical-align: middle;\n",
       "    }\n",
       "\n",
       "    .dataframe tbody tr th {\n",
       "        vertical-align: top;\n",
       "    }\n",
       "\n",
       "    .dataframe thead th {\n",
       "        text-align: right;\n",
       "    }\n",
       "</style>\n",
       "<table border=\"1\" class=\"dataframe\">\n",
       "  <thead>\n",
       "    <tr style=\"text-align: right;\">\n",
       "      <th></th>\n",
       "      <th>instant</th>\n",
       "      <th>season</th>\n",
       "      <th>yr</th>\n",
       "      <th>mnth</th>\n",
       "      <th>holiday</th>\n",
       "      <th>weekday</th>\n",
       "      <th>workingday</th>\n",
       "      <th>weathersit</th>\n",
       "      <th>temp</th>\n",
       "      <th>atemp</th>\n",
       "      <th>hum</th>\n",
       "      <th>windspeed</th>\n",
       "      <th>casual</th>\n",
       "      <th>registered</th>\n",
       "      <th>cnt</th>\n",
       "    </tr>\n",
       "  </thead>\n",
       "  <tbody>\n",
       "    <tr>\n",
       "      <th>count</th>\n",
       "      <td>731.000000</td>\n",
       "      <td>731.000000</td>\n",
       "      <td>731.000000</td>\n",
       "      <td>731.000000</td>\n",
       "      <td>731.000000</td>\n",
       "      <td>731.000000</td>\n",
       "      <td>731.000000</td>\n",
       "      <td>731.000000</td>\n",
       "      <td>731.000000</td>\n",
       "      <td>731.000000</td>\n",
       "      <td>731.000000</td>\n",
       "      <td>731.000000</td>\n",
       "      <td>731.000000</td>\n",
       "      <td>731.000000</td>\n",
       "      <td>731.000000</td>\n",
       "    </tr>\n",
       "    <tr>\n",
       "      <th>mean</th>\n",
       "      <td>366.000000</td>\n",
       "      <td>2.496580</td>\n",
       "      <td>0.500684</td>\n",
       "      <td>6.519836</td>\n",
       "      <td>0.028728</td>\n",
       "      <td>2.997264</td>\n",
       "      <td>0.683995</td>\n",
       "      <td>1.395349</td>\n",
       "      <td>0.495385</td>\n",
       "      <td>0.474354</td>\n",
       "      <td>0.627894</td>\n",
       "      <td>0.190486</td>\n",
       "      <td>848.176471</td>\n",
       "      <td>3656.172367</td>\n",
       "      <td>4504.348837</td>\n",
       "    </tr>\n",
       "    <tr>\n",
       "      <th>std</th>\n",
       "      <td>211.165812</td>\n",
       "      <td>1.110807</td>\n",
       "      <td>0.500342</td>\n",
       "      <td>3.451913</td>\n",
       "      <td>0.167155</td>\n",
       "      <td>2.004787</td>\n",
       "      <td>0.465233</td>\n",
       "      <td>0.544894</td>\n",
       "      <td>0.183051</td>\n",
       "      <td>0.162961</td>\n",
       "      <td>0.142429</td>\n",
       "      <td>0.077498</td>\n",
       "      <td>686.622488</td>\n",
       "      <td>1560.256377</td>\n",
       "      <td>1937.211452</td>\n",
       "    </tr>\n",
       "    <tr>\n",
       "      <th>min</th>\n",
       "      <td>1.000000</td>\n",
       "      <td>1.000000</td>\n",
       "      <td>0.000000</td>\n",
       "      <td>1.000000</td>\n",
       "      <td>0.000000</td>\n",
       "      <td>0.000000</td>\n",
       "      <td>0.000000</td>\n",
       "      <td>1.000000</td>\n",
       "      <td>0.059130</td>\n",
       "      <td>0.079070</td>\n",
       "      <td>0.000000</td>\n",
       "      <td>0.022392</td>\n",
       "      <td>2.000000</td>\n",
       "      <td>20.000000</td>\n",
       "      <td>22.000000</td>\n",
       "    </tr>\n",
       "    <tr>\n",
       "      <th>25%</th>\n",
       "      <td>183.500000</td>\n",
       "      <td>2.000000</td>\n",
       "      <td>0.000000</td>\n",
       "      <td>4.000000</td>\n",
       "      <td>0.000000</td>\n",
       "      <td>1.000000</td>\n",
       "      <td>0.000000</td>\n",
       "      <td>1.000000</td>\n",
       "      <td>0.337083</td>\n",
       "      <td>0.337842</td>\n",
       "      <td>0.520000</td>\n",
       "      <td>0.134950</td>\n",
       "      <td>315.500000</td>\n",
       "      <td>2497.000000</td>\n",
       "      <td>3152.000000</td>\n",
       "    </tr>\n",
       "    <tr>\n",
       "      <th>50%</th>\n",
       "      <td>366.000000</td>\n",
       "      <td>3.000000</td>\n",
       "      <td>1.000000</td>\n",
       "      <td>7.000000</td>\n",
       "      <td>0.000000</td>\n",
       "      <td>3.000000</td>\n",
       "      <td>1.000000</td>\n",
       "      <td>1.000000</td>\n",
       "      <td>0.498333</td>\n",
       "      <td>0.486733</td>\n",
       "      <td>0.626667</td>\n",
       "      <td>0.180975</td>\n",
       "      <td>713.000000</td>\n",
       "      <td>3662.000000</td>\n",
       "      <td>4548.000000</td>\n",
       "    </tr>\n",
       "    <tr>\n",
       "      <th>75%</th>\n",
       "      <td>548.500000</td>\n",
       "      <td>3.000000</td>\n",
       "      <td>1.000000</td>\n",
       "      <td>10.000000</td>\n",
       "      <td>0.000000</td>\n",
       "      <td>5.000000</td>\n",
       "      <td>1.000000</td>\n",
       "      <td>2.000000</td>\n",
       "      <td>0.655417</td>\n",
       "      <td>0.608602</td>\n",
       "      <td>0.730209</td>\n",
       "      <td>0.233214</td>\n",
       "      <td>1096.000000</td>\n",
       "      <td>4776.500000</td>\n",
       "      <td>5956.000000</td>\n",
       "    </tr>\n",
       "    <tr>\n",
       "      <th>max</th>\n",
       "      <td>731.000000</td>\n",
       "      <td>4.000000</td>\n",
       "      <td>1.000000</td>\n",
       "      <td>12.000000</td>\n",
       "      <td>1.000000</td>\n",
       "      <td>6.000000</td>\n",
       "      <td>1.000000</td>\n",
       "      <td>3.000000</td>\n",
       "      <td>0.861667</td>\n",
       "      <td>0.840896</td>\n",
       "      <td>0.972500</td>\n",
       "      <td>0.507463</td>\n",
       "      <td>3410.000000</td>\n",
       "      <td>6946.000000</td>\n",
       "      <td>8714.000000</td>\n",
       "    </tr>\n",
       "  </tbody>\n",
       "</table>\n",
       "</div>"
      ],
      "text/plain": [
       "          instant      season          yr        mnth     holiday     weekday  \\\n",
       "count  731.000000  731.000000  731.000000  731.000000  731.000000  731.000000   \n",
       "mean   366.000000    2.496580    0.500684    6.519836    0.028728    2.997264   \n",
       "std    211.165812    1.110807    0.500342    3.451913    0.167155    2.004787   \n",
       "min      1.000000    1.000000    0.000000    1.000000    0.000000    0.000000   \n",
       "25%    183.500000    2.000000    0.000000    4.000000    0.000000    1.000000   \n",
       "50%    366.000000    3.000000    1.000000    7.000000    0.000000    3.000000   \n",
       "75%    548.500000    3.000000    1.000000   10.000000    0.000000    5.000000   \n",
       "max    731.000000    4.000000    1.000000   12.000000    1.000000    6.000000   \n",
       "\n",
       "       workingday  weathersit        temp       atemp         hum   windspeed  \\\n",
       "count  731.000000  731.000000  731.000000  731.000000  731.000000  731.000000   \n",
       "mean     0.683995    1.395349    0.495385    0.474354    0.627894    0.190486   \n",
       "std      0.465233    0.544894    0.183051    0.162961    0.142429    0.077498   \n",
       "min      0.000000    1.000000    0.059130    0.079070    0.000000    0.022392   \n",
       "25%      0.000000    1.000000    0.337083    0.337842    0.520000    0.134950   \n",
       "50%      1.000000    1.000000    0.498333    0.486733    0.626667    0.180975   \n",
       "75%      1.000000    2.000000    0.655417    0.608602    0.730209    0.233214   \n",
       "max      1.000000    3.000000    0.861667    0.840896    0.972500    0.507463   \n",
       "\n",
       "            casual   registered          cnt  \n",
       "count   731.000000   731.000000   731.000000  \n",
       "mean    848.176471  3656.172367  4504.348837  \n",
       "std     686.622488  1560.256377  1937.211452  \n",
       "min       2.000000    20.000000    22.000000  \n",
       "25%     315.500000  2497.000000  3152.000000  \n",
       "50%     713.000000  3662.000000  4548.000000  \n",
       "75%    1096.000000  4776.500000  5956.000000  \n",
       "max    3410.000000  6946.000000  8714.000000  "
      ]
     },
     "execution_count": 123,
     "metadata": {},
     "output_type": "execute_result"
    }
   ],
   "source": [
    "print(\"Jumlah duplikasi: \",day_df.duplicated().sum())\n",
    "day_df.describe()"
   ]
  },
  {
   "cell_type": "markdown",
   "metadata": {
    "id": "SKp34J0omiUT"
   },
   "source": [
    "Tidak ada keanehan pada hasil tersebut. day_df tidak terdapat duplikasi dan keanehan nilai."
   ]
  },
  {
   "cell_type": "markdown",
   "metadata": {
    "id": "YWcG0lP5njYf"
   },
   "source": [
    "#### Menilai data hour_df"
   ]
  },
  {
   "cell_type": "code",
   "execution_count": 126,
   "metadata": {
    "colab": {
     "base_uri": "https://localhost:8080/"
    },
    "id": "rEGKDnXunphf",
    "outputId": "f9b3639e-5ff7-4aa8-9117-70dc5a795ffe"
   },
   "outputs": [
    {
     "name": "stdout",
     "output_type": "stream",
     "text": [
      "<class 'pandas.core.frame.DataFrame'>\n",
      "RangeIndex: 17379 entries, 0 to 17378\n",
      "Data columns (total 17 columns):\n",
      " #   Column      Non-Null Count  Dtype  \n",
      "---  ------      --------------  -----  \n",
      " 0   instant     17379 non-null  int64  \n",
      " 1   dteday      17379 non-null  object \n",
      " 2   season      17379 non-null  int64  \n",
      " 3   yr          17379 non-null  int64  \n",
      " 4   mnth        17379 non-null  int64  \n",
      " 5   hr          17379 non-null  int64  \n",
      " 6   holiday     17379 non-null  int64  \n",
      " 7   weekday     17379 non-null  int64  \n",
      " 8   workingday  17379 non-null  int64  \n",
      " 9   weathersit  17379 non-null  int64  \n",
      " 10  temp        17379 non-null  float64\n",
      " 11  atemp       17379 non-null  float64\n",
      " 12  hum         17379 non-null  float64\n",
      " 13  windspeed   17379 non-null  float64\n",
      " 14  casual      17379 non-null  int64  \n",
      " 15  registered  17379 non-null  int64  \n",
      " 16  cnt         17379 non-null  int64  \n",
      "dtypes: float64(4), int64(12), object(1)\n",
      "memory usage: 2.3+ MB\n"
     ]
    }
   ],
   "source": [
    "hour_df.info()"
   ]
  },
  {
   "cell_type": "markdown",
   "metadata": {
    "id": "0tCKWlBIpzWy"
   },
   "source": [
    "Jumlah data pada hour_df telah lengkap, tidak ada missing value di dalamnya. Namun, terdapat kesalahan tipe data untuk kolom dteday yang seharusnya direpresentasikan sebagai tipe data datetime, bukan object."
   ]
  },
  {
   "cell_type": "markdown",
   "metadata": {
    "id": "H_bu7NQQqAPu"
   },
   "source": [
    "Memeriksa duplikasi dan ringkasan parameter statistik dari kolom numerik pada hour_df."
   ]
  },
  {
   "cell_type": "code",
   "execution_count": 129,
   "metadata": {
    "colab": {
     "base_uri": "https://localhost:8080/",
     "height": 337
    },
    "id": "dmdWxiEnqK5O",
    "outputId": "eb0c1e7a-7c06-423a-f0ab-842eb329798b"
   },
   "outputs": [
    {
     "name": "stdout",
     "output_type": "stream",
     "text": [
      "Jumlah duplikasi:  0\n"
     ]
    },
    {
     "data": {
      "text/html": [
       "<div>\n",
       "<style scoped>\n",
       "    .dataframe tbody tr th:only-of-type {\n",
       "        vertical-align: middle;\n",
       "    }\n",
       "\n",
       "    .dataframe tbody tr th {\n",
       "        vertical-align: top;\n",
       "    }\n",
       "\n",
       "    .dataframe thead th {\n",
       "        text-align: right;\n",
       "    }\n",
       "</style>\n",
       "<table border=\"1\" class=\"dataframe\">\n",
       "  <thead>\n",
       "    <tr style=\"text-align: right;\">\n",
       "      <th></th>\n",
       "      <th>instant</th>\n",
       "      <th>season</th>\n",
       "      <th>yr</th>\n",
       "      <th>mnth</th>\n",
       "      <th>hr</th>\n",
       "      <th>holiday</th>\n",
       "      <th>weekday</th>\n",
       "      <th>workingday</th>\n",
       "      <th>weathersit</th>\n",
       "      <th>temp</th>\n",
       "      <th>atemp</th>\n",
       "      <th>hum</th>\n",
       "      <th>windspeed</th>\n",
       "      <th>casual</th>\n",
       "      <th>registered</th>\n",
       "      <th>cnt</th>\n",
       "    </tr>\n",
       "  </thead>\n",
       "  <tbody>\n",
       "    <tr>\n",
       "      <th>count</th>\n",
       "      <td>17379.0000</td>\n",
       "      <td>17379.000000</td>\n",
       "      <td>17379.000000</td>\n",
       "      <td>17379.000000</td>\n",
       "      <td>17379.000000</td>\n",
       "      <td>17379.000000</td>\n",
       "      <td>17379.000000</td>\n",
       "      <td>17379.000000</td>\n",
       "      <td>17379.000000</td>\n",
       "      <td>17379.000000</td>\n",
       "      <td>17379.000000</td>\n",
       "      <td>17379.000000</td>\n",
       "      <td>17379.000000</td>\n",
       "      <td>17379.000000</td>\n",
       "      <td>17379.000000</td>\n",
       "      <td>17379.000000</td>\n",
       "    </tr>\n",
       "    <tr>\n",
       "      <th>mean</th>\n",
       "      <td>8690.0000</td>\n",
       "      <td>2.501640</td>\n",
       "      <td>0.502561</td>\n",
       "      <td>6.537775</td>\n",
       "      <td>11.546752</td>\n",
       "      <td>0.028770</td>\n",
       "      <td>3.003683</td>\n",
       "      <td>0.682721</td>\n",
       "      <td>1.425283</td>\n",
       "      <td>0.496987</td>\n",
       "      <td>0.475775</td>\n",
       "      <td>0.627229</td>\n",
       "      <td>0.190098</td>\n",
       "      <td>35.676218</td>\n",
       "      <td>153.786869</td>\n",
       "      <td>189.463088</td>\n",
       "    </tr>\n",
       "    <tr>\n",
       "      <th>std</th>\n",
       "      <td>5017.0295</td>\n",
       "      <td>1.106918</td>\n",
       "      <td>0.500008</td>\n",
       "      <td>3.438776</td>\n",
       "      <td>6.914405</td>\n",
       "      <td>0.167165</td>\n",
       "      <td>2.005771</td>\n",
       "      <td>0.465431</td>\n",
       "      <td>0.639357</td>\n",
       "      <td>0.192556</td>\n",
       "      <td>0.171850</td>\n",
       "      <td>0.192930</td>\n",
       "      <td>0.122340</td>\n",
       "      <td>49.305030</td>\n",
       "      <td>151.357286</td>\n",
       "      <td>181.387599</td>\n",
       "    </tr>\n",
       "    <tr>\n",
       "      <th>min</th>\n",
       "      <td>1.0000</td>\n",
       "      <td>1.000000</td>\n",
       "      <td>0.000000</td>\n",
       "      <td>1.000000</td>\n",
       "      <td>0.000000</td>\n",
       "      <td>0.000000</td>\n",
       "      <td>0.000000</td>\n",
       "      <td>0.000000</td>\n",
       "      <td>1.000000</td>\n",
       "      <td>0.020000</td>\n",
       "      <td>0.000000</td>\n",
       "      <td>0.000000</td>\n",
       "      <td>0.000000</td>\n",
       "      <td>0.000000</td>\n",
       "      <td>0.000000</td>\n",
       "      <td>1.000000</td>\n",
       "    </tr>\n",
       "    <tr>\n",
       "      <th>25%</th>\n",
       "      <td>4345.5000</td>\n",
       "      <td>2.000000</td>\n",
       "      <td>0.000000</td>\n",
       "      <td>4.000000</td>\n",
       "      <td>6.000000</td>\n",
       "      <td>0.000000</td>\n",
       "      <td>1.000000</td>\n",
       "      <td>0.000000</td>\n",
       "      <td>1.000000</td>\n",
       "      <td>0.340000</td>\n",
       "      <td>0.333300</td>\n",
       "      <td>0.480000</td>\n",
       "      <td>0.104500</td>\n",
       "      <td>4.000000</td>\n",
       "      <td>34.000000</td>\n",
       "      <td>40.000000</td>\n",
       "    </tr>\n",
       "    <tr>\n",
       "      <th>50%</th>\n",
       "      <td>8690.0000</td>\n",
       "      <td>3.000000</td>\n",
       "      <td>1.000000</td>\n",
       "      <td>7.000000</td>\n",
       "      <td>12.000000</td>\n",
       "      <td>0.000000</td>\n",
       "      <td>3.000000</td>\n",
       "      <td>1.000000</td>\n",
       "      <td>1.000000</td>\n",
       "      <td>0.500000</td>\n",
       "      <td>0.484800</td>\n",
       "      <td>0.630000</td>\n",
       "      <td>0.194000</td>\n",
       "      <td>17.000000</td>\n",
       "      <td>115.000000</td>\n",
       "      <td>142.000000</td>\n",
       "    </tr>\n",
       "    <tr>\n",
       "      <th>75%</th>\n",
       "      <td>13034.5000</td>\n",
       "      <td>3.000000</td>\n",
       "      <td>1.000000</td>\n",
       "      <td>10.000000</td>\n",
       "      <td>18.000000</td>\n",
       "      <td>0.000000</td>\n",
       "      <td>5.000000</td>\n",
       "      <td>1.000000</td>\n",
       "      <td>2.000000</td>\n",
       "      <td>0.660000</td>\n",
       "      <td>0.621200</td>\n",
       "      <td>0.780000</td>\n",
       "      <td>0.253700</td>\n",
       "      <td>48.000000</td>\n",
       "      <td>220.000000</td>\n",
       "      <td>281.000000</td>\n",
       "    </tr>\n",
       "    <tr>\n",
       "      <th>max</th>\n",
       "      <td>17379.0000</td>\n",
       "      <td>4.000000</td>\n",
       "      <td>1.000000</td>\n",
       "      <td>12.000000</td>\n",
       "      <td>23.000000</td>\n",
       "      <td>1.000000</td>\n",
       "      <td>6.000000</td>\n",
       "      <td>1.000000</td>\n",
       "      <td>4.000000</td>\n",
       "      <td>1.000000</td>\n",
       "      <td>1.000000</td>\n",
       "      <td>1.000000</td>\n",
       "      <td>0.850700</td>\n",
       "      <td>367.000000</td>\n",
       "      <td>886.000000</td>\n",
       "      <td>977.000000</td>\n",
       "    </tr>\n",
       "  </tbody>\n",
       "</table>\n",
       "</div>"
      ],
      "text/plain": [
       "          instant        season            yr          mnth            hr  \\\n",
       "count  17379.0000  17379.000000  17379.000000  17379.000000  17379.000000   \n",
       "mean    8690.0000      2.501640      0.502561      6.537775     11.546752   \n",
       "std     5017.0295      1.106918      0.500008      3.438776      6.914405   \n",
       "min        1.0000      1.000000      0.000000      1.000000      0.000000   \n",
       "25%     4345.5000      2.000000      0.000000      4.000000      6.000000   \n",
       "50%     8690.0000      3.000000      1.000000      7.000000     12.000000   \n",
       "75%    13034.5000      3.000000      1.000000     10.000000     18.000000   \n",
       "max    17379.0000      4.000000      1.000000     12.000000     23.000000   \n",
       "\n",
       "            holiday       weekday    workingday    weathersit          temp  \\\n",
       "count  17379.000000  17379.000000  17379.000000  17379.000000  17379.000000   \n",
       "mean       0.028770      3.003683      0.682721      1.425283      0.496987   \n",
       "std        0.167165      2.005771      0.465431      0.639357      0.192556   \n",
       "min        0.000000      0.000000      0.000000      1.000000      0.020000   \n",
       "25%        0.000000      1.000000      0.000000      1.000000      0.340000   \n",
       "50%        0.000000      3.000000      1.000000      1.000000      0.500000   \n",
       "75%        0.000000      5.000000      1.000000      2.000000      0.660000   \n",
       "max        1.000000      6.000000      1.000000      4.000000      1.000000   \n",
       "\n",
       "              atemp           hum     windspeed        casual    registered  \\\n",
       "count  17379.000000  17379.000000  17379.000000  17379.000000  17379.000000   \n",
       "mean       0.475775      0.627229      0.190098     35.676218    153.786869   \n",
       "std        0.171850      0.192930      0.122340     49.305030    151.357286   \n",
       "min        0.000000      0.000000      0.000000      0.000000      0.000000   \n",
       "25%        0.333300      0.480000      0.104500      4.000000     34.000000   \n",
       "50%        0.484800      0.630000      0.194000     17.000000    115.000000   \n",
       "75%        0.621200      0.780000      0.253700     48.000000    220.000000   \n",
       "max        1.000000      1.000000      0.850700    367.000000    886.000000   \n",
       "\n",
       "                cnt  \n",
       "count  17379.000000  \n",
       "mean     189.463088  \n",
       "std      181.387599  \n",
       "min        1.000000  \n",
       "25%       40.000000  \n",
       "50%      142.000000  \n",
       "75%      281.000000  \n",
       "max      977.000000  "
      ]
     },
     "execution_count": 129,
     "metadata": {},
     "output_type": "execute_result"
    }
   ],
   "source": [
    "print(\"Jumlah duplikasi: \",hour_df.duplicated().sum())\n",
    "hour_df.describe()"
   ]
  },
  {
   "cell_type": "markdown",
   "metadata": {
    "id": "2ZC41cq3qZJa"
   },
   "source": [
    "Tidak ada duplikasi dan keanehan nilai pada hour_df."
   ]
  },
  {
   "cell_type": "markdown",
   "metadata": {
    "id": "7dtxhAPrkhPL"
   },
   "source": [
    "**Insight Assessing Data:**\n",
    "- Pada day_df terdapat kesalahan tipe data untuk kolom dteday.\n",
    "- Pada hour_df terdapat kesalahan tipe data untuk kolom dteday."
   ]
  },
  {
   "cell_type": "markdown",
   "metadata": {
    "id": "EhN5R4hr8DC1"
   },
   "source": [
    "### Cleaning Data"
   ]
  },
  {
   "cell_type": "markdown",
   "metadata": {
    "id": "5imF7MOxraKq"
   },
   "source": [
    "#### Membersihkan data day_df\n",
    "\n",
    "Membersihkan data day_df dengan mengganti tipe data pada kolom dteday yang seharusnya direpresentasikan sebagai tipe data datetime, bukan object.\n",
    "\n",
    "Proses ini menggunakan funtion to_datetime() yang disediakan oleh library pandas."
   ]
  },
  {
   "cell_type": "code",
   "execution_count": 134,
   "metadata": {
    "id": "jVnYpprE9Evz"
   },
   "outputs": [],
   "source": [
    "datetime_columns = [\"dteday\"]\n",
    "\n",
    "for column in datetime_columns:\n",
    "  day_df[column] = pd.to_datetime(day_df[column])"
   ]
  },
  {
   "cell_type": "markdown",
   "metadata": {
    "id": "3PoGY0AYtq4W"
   },
   "source": [
    "Untuk memastikan perubahan berjalan sesuai harapan, tipe data tersebut diperiksa kembali menggunakan method info()"
   ]
  },
  {
   "cell_type": "code",
   "execution_count": 136,
   "metadata": {
    "colab": {
     "base_uri": "https://localhost:8080/"
    },
    "id": "zO0IAPVjt4d5",
    "outputId": "8e8933ea-4ed2-4bfb-f797-f7add6c0d67c"
   },
   "outputs": [
    {
     "name": "stdout",
     "output_type": "stream",
     "text": [
      "<class 'pandas.core.frame.DataFrame'>\n",
      "RangeIndex: 731 entries, 0 to 730\n",
      "Data columns (total 16 columns):\n",
      " #   Column      Non-Null Count  Dtype         \n",
      "---  ------      --------------  -----         \n",
      " 0   instant     731 non-null    int64         \n",
      " 1   dteday      731 non-null    datetime64[ns]\n",
      " 2   season      731 non-null    int64         \n",
      " 3   yr          731 non-null    int64         \n",
      " 4   mnth        731 non-null    int64         \n",
      " 5   holiday     731 non-null    int64         \n",
      " 6   weekday     731 non-null    int64         \n",
      " 7   workingday  731 non-null    int64         \n",
      " 8   weathersit  731 non-null    int64         \n",
      " 9   temp        731 non-null    float64       \n",
      " 10  atemp       731 non-null    float64       \n",
      " 11  hum         731 non-null    float64       \n",
      " 12  windspeed   731 non-null    float64       \n",
      " 13  casual      731 non-null    int64         \n",
      " 14  registered  731 non-null    int64         \n",
      " 15  cnt         731 non-null    int64         \n",
      "dtypes: datetime64[ns](1), float64(4), int64(11)\n",
      "memory usage: 91.5 KB\n"
     ]
    }
   ],
   "source": [
    "day_df.info()"
   ]
  },
  {
   "cell_type": "markdown",
   "metadata": {
    "id": "y0EGdPeJuBrj"
   },
   "source": [
    "Semua tahapan untuk mengganti tipe data pada day_df sudah berjalan sesuai harapan"
   ]
  },
  {
   "cell_type": "markdown",
   "metadata": {
    "id": "w0VlhidIuQFo"
   },
   "source": [
    "#### Membersihkan data hour_df\n",
    "\n",
    "Membersihkan data hour_df dengan mengganti tipe data pada kolom dteday yang seharusnya direpresentasikan sebagai tipe data datetime, bukan object.\n",
    "\n",
    "Proses ini menggunakan funtion to_datetime() yang disediakan oleh library pandas."
   ]
  },
  {
   "cell_type": "code",
   "execution_count": 139,
   "metadata": {
    "id": "5L8sDzxZumVN"
   },
   "outputs": [],
   "source": [
    "datetime_columns = [\"dteday\"]\n",
    "\n",
    "for column in datetime_columns:\n",
    "  hour_df[column] = pd.to_datetime(hour_df[column])"
   ]
  },
  {
   "cell_type": "markdown",
   "metadata": {
    "id": "LmD6VPR1vX_P"
   },
   "source": [
    "Untuk memastikan perubahan berjalan sesuai harapan, tipe data tersebut diperiksa kembali menggunakan method info()"
   ]
  },
  {
   "cell_type": "code",
   "execution_count": 141,
   "metadata": {
    "colab": {
     "base_uri": "https://localhost:8080/"
    },
    "id": "YS8212COvdDI",
    "outputId": "d6ed3fd0-8293-4538-f3a5-8d65b6cd4134"
   },
   "outputs": [
    {
     "name": "stdout",
     "output_type": "stream",
     "text": [
      "<class 'pandas.core.frame.DataFrame'>\n",
      "RangeIndex: 17379 entries, 0 to 17378\n",
      "Data columns (total 17 columns):\n",
      " #   Column      Non-Null Count  Dtype         \n",
      "---  ------      --------------  -----         \n",
      " 0   instant     17379 non-null  int64         \n",
      " 1   dteday      17379 non-null  datetime64[ns]\n",
      " 2   season      17379 non-null  int64         \n",
      " 3   yr          17379 non-null  int64         \n",
      " 4   mnth        17379 non-null  int64         \n",
      " 5   hr          17379 non-null  int64         \n",
      " 6   holiday     17379 non-null  int64         \n",
      " 7   weekday     17379 non-null  int64         \n",
      " 8   workingday  17379 non-null  int64         \n",
      " 9   weathersit  17379 non-null  int64         \n",
      " 10  temp        17379 non-null  float64       \n",
      " 11  atemp       17379 non-null  float64       \n",
      " 12  hum         17379 non-null  float64       \n",
      " 13  windspeed   17379 non-null  float64       \n",
      " 14  casual      17379 non-null  int64         \n",
      " 15  registered  17379 non-null  int64         \n",
      " 16  cnt         17379 non-null  int64         \n",
      "dtypes: datetime64[ns](1), float64(4), int64(12)\n",
      "memory usage: 2.3 MB\n"
     ]
    }
   ],
   "source": [
    "hour_df.info()"
   ]
  },
  {
   "cell_type": "markdown",
   "metadata": {
    "id": "MK0YnhAbvlvo"
   },
   "source": [
    "Semua tahapan untuk mengganti tipe data pada day_df sudah berjalan sesuai harapan."
   ]
  },
  {
   "cell_type": "markdown",
   "metadata": {
    "id": "Q_5ejIqckiSP"
   },
   "source": [
    "**Insight Cleaning Data:**\n",
    "- Proses cleaning data day_df sudah berjalan sesuai harapan. Tipe data pada kolom dteday yang awalnya object berubah menjadi datetime.\n",
    "- Proses cleaning data hour_df sudah berjalan sesuai harapan. Tipe data pada kolom dteday yang awalnya object berubah menjadi datetime."
   ]
  },
  {
   "cell_type": "markdown",
   "metadata": {
    "id": "gp-Y6wU38DC1"
   },
   "source": [
    "## Exploratory Data Analysis (EDA)"
   ]
  },
  {
   "cell_type": "markdown",
   "metadata": {
    "id": "MW7WF2kr8DC1"
   },
   "source": [
    "### Explore data day_df untuk melihat deskripsi statistik variabel cnt (jumlah total peminjaman) dan weathersit"
   ]
  },
  {
   "cell_type": "markdown",
   "metadata": {
    "id": "VLM8goR_60uZ"
   },
   "source": [
    "Pada tahap ini, kita melihat deskripsi statistik variabel cnt (jumlah total peminjaman) dan weathersit."
   ]
  },
  {
   "cell_type": "code",
   "execution_count": 147,
   "metadata": {
    "colab": {
     "base_uri": "https://localhost:8080/"
    },
    "id": "YJHadUDT7GTG",
    "outputId": "e4885b49-ec95-4d1e-a716-ea160a2fb8c5"
   },
   "outputs": [
    {
     "name": "stdout",
     "output_type": "stream",
     "text": [
      "               cnt  weathersit\n",
      "count   731.000000  731.000000\n",
      "mean   4504.348837    1.395349\n",
      "std    1937.211452    0.544894\n",
      "min      22.000000    1.000000\n",
      "25%    3152.000000    1.000000\n",
      "50%    4548.000000    1.000000\n",
      "75%    5956.000000    2.000000\n",
      "max    8714.000000    3.000000\n"
     ]
    }
   ],
   "source": [
    "print(day_df[['cnt', 'weathersit']].describe())"
   ]
  },
  {
   "cell_type": "markdown",
   "metadata": {
    "id": "bWS-h4IWB2-O"
   },
   "source": [
    "Berdasarkan deskripsi statistik tersebut, weathersit hanya 1 sampai 3, tidak sampai 4. Jumlah peminjaman sepeda paling sedikit 22 dan paling banyak 8714."
   ]
  },
  {
   "cell_type": "markdown",
   "metadata": {
    "id": "Erl6gvsGI1Nr"
   },
   "source": [
    "Selanjutnya kita mencoba melihat persebaran jumlah peminjam berdasarkan weathersit."
   ]
  },
  {
   "cell_type": "code",
   "execution_count": 150,
   "metadata": {
    "colab": {
     "base_uri": "https://localhost:8080/",
     "height": 209
    },
    "id": "FwTZxQnVJDeb",
    "outputId": "2f4f2df5-2716-4f6a-c46f-330167dde025"
   },
   "outputs": [
    {
     "data": {
      "text/plain": [
       "weathersit\n",
       "1    451\n",
       "2    243\n",
       "3     21\n",
       "Name: cnt, dtype: int64"
      ]
     },
     "execution_count": 150,
     "metadata": {},
     "output_type": "execute_result"
    }
   ],
   "source": [
    "day_df.groupby(by=\"weathersit\").cnt.nunique().sort_values(ascending=False)"
   ]
  },
  {
   "cell_type": "markdown",
   "metadata": {
    "id": "9xfwQJ_Z6YLz"
   },
   "source": [
    "### Explore data hour_df untuk melihat deskripsi statistik variabel cnt (jumlah total peminjaman), hr (jam), casual, dan registered"
   ]
  },
  {
   "cell_type": "markdown",
   "metadata": {
    "id": "HweKyZinUX__"
   },
   "source": [
    "Pada tahap ini, kita melihat deskripsi statistik variabel cnt (jumlah total peminjaman), hr (jam), casual, dan registered."
   ]
  },
  {
   "cell_type": "code",
   "execution_count": 153,
   "metadata": {
    "colab": {
     "base_uri": "https://localhost:8080/"
    },
    "id": "g2WPru5HVRAr",
    "outputId": "4a9f207a-7ae8-484f-ef59-9bad28b9d588"
   },
   "outputs": [
    {
     "name": "stdout",
     "output_type": "stream",
     "text": [
      "                cnt            hr        casual    registered\n",
      "count  17379.000000  17379.000000  17379.000000  17379.000000\n",
      "mean     189.463088     11.546752     35.676218    153.786869\n",
      "std      181.387599      6.914405     49.305030    151.357286\n",
      "min        1.000000      0.000000      0.000000      0.000000\n",
      "25%       40.000000      6.000000      4.000000     34.000000\n",
      "50%      142.000000     12.000000     17.000000    115.000000\n",
      "75%      281.000000     18.000000     48.000000    220.000000\n",
      "max      977.000000     23.000000    367.000000    886.000000\n"
     ]
    }
   ],
   "source": [
    "print(hour_df[['cnt', 'hr', 'casual', 'registered']].describe())"
   ]
  },
  {
   "cell_type": "markdown",
   "metadata": {
    "id": "XtOToIsgVxcq"
   },
   "source": [
    "Berdasarkan deskripsi statistik tersebut, peminjaman sepeda terjadi dari 0-23 jam. Jumlah sepeda yang disewa paling sedikit 1 dan paling banyak 977. jumlah pengguna casual paling sedikit 0 dan paling banyak 367, Jumlah pengguna registered paling sedikit 0 dan paling banyak 886."
   ]
  },
  {
   "cell_type": "markdown",
   "metadata": {
    "id": "6Up0NHjBWC9L"
   },
   "source": [
    "Selanjutnya kita mencoba melihat persebaran jumlah peminjam berdasarkan hr."
   ]
  },
  {
   "cell_type": "code",
   "execution_count": 156,
   "metadata": {
    "colab": {
     "base_uri": "https://localhost:8080/",
     "height": 868
    },
    "id": "e9CQCZjk8DC2",
    "outputId": "34e61f76-cb19-4bf8-95af-3318a6134877"
   },
   "outputs": [
    {
     "data": {
      "text/plain": [
       "hr\n",
       "17    494\n",
       "18    471\n",
       "8     467\n",
       "19    423\n",
       "16    414\n",
       "14    385\n",
       "12    383\n",
       "15    383\n",
       "13    377\n",
       "7     374\n",
       "20    360\n",
       "11    337\n",
       "9     322\n",
       "10    312\n",
       "21    294\n",
       "22    252\n",
       "23    196\n",
       "6     187\n",
       "0     162\n",
       "1     120\n",
       "2     100\n",
       "3      60\n",
       "5      58\n",
       "4      25\n",
       "Name: cnt, dtype: int64"
      ]
     },
     "execution_count": 156,
     "metadata": {},
     "output_type": "execute_result"
    }
   ],
   "source": [
    "hour_df.groupby(by=\"hr\").cnt.nunique().sort_values(ascending=False)"
   ]
  },
  {
   "cell_type": "markdown",
   "metadata": {
    "id": "th_Lzl2Fkj9O"
   },
   "source": [
    "### **Insight EDA:**\n",
    "- Jumlah penyewa sepeda pada weathersit 1 (cuaca cerah) terbanyak dan paling sedikit ada di weathersit 3 (cuaca hujan), jumlah penyewa sepeda yang kosong atau tidak ada penyewa sama sekali ketika weathersit 4 (cuaca ekstrem).\n",
    "- Jumlah penyewa sepeda paling banyak ada di jam 17 dan paling sedikit di jam 4."
   ]
  },
  {
   "cell_type": "markdown",
   "metadata": {
    "id": "zsyZjqak8DC2"
   },
   "source": [
    "## Visualization & Explanatory Analysis"
   ]
  },
  {
   "cell_type": "markdown",
   "metadata": {
    "id": "HZxOiQ6n8DC2"
   },
   "source": [
    "### Pertanyaan 1: Bagaimana distribusi peminjaman sepeda berdasarkan weathersit?"
   ]
  },
  {
   "cell_type": "markdown",
   "metadata": {
    "id": "cs1Zgwmw9elm"
   },
   "source": [
    "Viualisasi menggunakan line chart dan boxplot untuk melihat distribusi peminjaman sepeda (cnt) berdasarkan weathersit."
   ]
  },
  {
   "cell_type": "code",
   "execution_count": 161,
   "metadata": {
    "colab": {
     "base_uri": "https://localhost:8080/",
     "height": 354
    },
    "id": "1swJUdAD8DC2",
    "outputId": "5d2c96ac-6a6a-41dd-eea2-de0902b40869"
   },
   "outputs": [
    {
     "data": {
      "image/png": "[encoded data removed]",
      "text/plain": [
       "<Figure size 1000x500 with 1 Axes>"
      ]
     },
     "metadata": {},
     "output_type": "display_data"
    }
   ],
   "source": [
    "weather_rentals = day_df.groupby('weathersit')['cnt'].sum().reset_index()\n",
    "plt.figure(figsize=(10, 5))\n",
    "plt.plot(weather_rentals['weathersit'], weather_rentals['cnt'], marker='o', linewidth=2, color=\"#72BCD4\")\n",
    "plt.title(\"Jumlah Penyewaan Sepeda Berdasarkan Kondisi Cuaca (Weathersit)\", loc=\"center\", fontsize=15)\n",
    "plt.xlabel(\"Kondisi Cuaca (Weathersit)\", fontsize=12)\n",
    "plt.ylabel(\"Jumlah Penyewa (cnt)\", fontsize=12)\n",
    "plt.xticks(ticks=[1, 2, 3, 4], labels=['Cerah', 'Berkabut', 'Hujan', 'Ekstrem'])\n",
    "plt.ticklabel_format(style='plain', axis='y')\n",
    "plt.show()"
   ]
  },
  {
   "cell_type": "code",
   "execution_count": 162,
   "metadata": {},
   "outputs": [
    {
     "data": {
      "image/png": "[encoded data removed]",
      "text/plain": [
       "<Figure size 640x480 with 1 Axes>"
      ]
     },
     "metadata": {},
     "output_type": "display_data"
    }
   ],
   "source": [
    "day_df['weathersit_label'] = day_df['weathersit'].map({1: 'Cerah', 2: 'Berkabut', 3: 'Hujan', 4: 'Ekstrem'})\n",
    "order = ['Cerah', 'Berkabut', 'Hujan', 'Ekstrem']\n",
    "day_df['weathersit_label'] = pd.Categorical(day_df['weathersit_label'], categories=order, ordered=True)\n",
    "fig, ax = plt.subplots()\n",
    "sns.boxplot(x='weathersit_label', y='cnt', data=day_df, ax=ax, order=order)\n",
    "plt.title(\"Jumlah Penyewaan Sepeda Berdasarkan Kondisi Cuaca (Weathersit)\")\n",
    "plt.xlabel(\"Kondisi Cuaca (Weathersit)\")\n",
    "plt.ylabel(\"Jumlah Penyewa (cnt)\")\n",
    "plt.show()"
   ]
  },
  {
   "cell_type": "markdown",
   "metadata": {
    "id": "vMDSRKz8H9jS"
   },
   "source": [
    "**Insight:**\n",
    "- Kondisi cuaca cerah menunjukkan bahwa jumlah penyewa sepeda yang tertinggi.\n",
    "- Kondisi cuaca berkabut menunjukkan jumlah penyewa sepeda lebih rendah daripada ketika cuaca cerah.\n",
    "- Kondisi cuaca hujan memiliki jumlah penyewa sepeda yang paling sedikit dibanding cuaca cerah dan berkabut.\n",
    "- Kondisi cuaca ekstrem tidak ada yang menyewa sepeda."
   ]
  },
  {
   "cell_type": "markdown",
   "metadata": {
    "id": "DgHI7CiU8DC2"
   },
   "source": [
    "### Pertanyaan 2: Bagaimana variasi penyewaan sepeda sepanjang hari?"
   ]
  },
  {
   "cell_type": "markdown",
   "metadata": {
    "id": "1Aa6wjyTW2gM"
   },
   "source": [
    "Visualisasi menggunakan line chart untuk melihat jumlah sepeda yang disewa(cnt) berdasarkan hr."
   ]
  },
  {
   "cell_type": "code",
   "execution_count": 166,
   "metadata": {
    "colab": {
     "base_uri": "https://localhost:8080/",
     "height": 357
    },
    "id": "Go0lCsvO8DC2",
    "outputId": "f3f02010-532b-4222-827f-23a30ed72275"
   },
   "outputs": [
    {
     "data": {
      "image/png": "[encoded data removed]",
      "text/plain": [
       "<Figure size 1000x500 with 1 Axes>"
      ]
     },
     "metadata": {},
     "output_type": "display_data"
    }
   ],
   "source": [
    "hourly_rentals = hour_df.groupby('hr')['cnt'].sum().reset_index()\n",
    "\n",
    "plt.figure(figsize=(10, 5))\n",
    "plt.plot(hourly_rentals['hr'], hourly_rentals['cnt'], marker='o', linewidth=2, color=\"#72BCD4\")\n",
    "plt.title(\"Jumlah Sepeda yang Disewa Berdasarkan Jam (hr)\", loc=\"center\", fontsize=15)\n",
    "plt.xlabel(\"Jam (hr)\", fontsize=12)\n",
    "plt.ylabel(\"Jumlah Sepeda yang Disewa (cnt)\", fontsize=12)\n",
    "plt.xticks(ticks=range(0, 24))  # Setting the x-ticks from 0 to 23 to represent hours\n",
    "plt.ticklabel_format(style='plain', axis='y')\n",
    "plt.grid(True)  # Adding grid lines for better readability\n",
    "plt.show()\n"
   ]
  },
  {
   "cell_type": "markdown",
   "metadata": {
    "id": "1Aa6wjyTW2gM"
   },
   "source": [
    "Visualisasi menggunakan dogged bar plot untuk melihat pengguna casual dan registered berdasarkan jam (hr)."
   ]
  },
  {
   "cell_type": "code",
   "execution_count": null,
   "metadata": {},
   "outputs": [],
   "source": [
    "hourly_casual_registered_melted = hour_df.melt(\n",
    "    id_vars='hr', value_vars=['casual', 'registered'], var_name='User Type', value_name='Rental Count'\n",
    ")\n",
    "\n",
    "plt.figure(figsize=(12, 6))\n",
    "sns.barplot(x='hr', y='Rental Count', hue='User Type', data=hourly_casual_registered_melted, \n",
    "            palette=[\"skyblue\", \"salmon\"], edgecolor=None)\n",
    "plt.title(\"Penyewaan Sepeda oleh Pengguna Casual dan Registered Sepanjang Hari\")\n",
    "plt.xlabel(\"Jam\")\n",
    "plt.ylabel(\"Jumlah Total Sepeda yang Disewa\")\n",
    "plt.legend(loc=\"upper right\")\n",
    "plt.grid(True)\n",
    "plt.show()"
   ]
  },
  {
   "cell_type": "markdown",
   "metadata": {
    "id": "_0-36BDLklRg"
   },
   "source": [
    "**Insight:**\n",
    "- Terdapat lonjakan jumlah sepeda yang disewakan diantara pukul 6 sampai 8 dan antara 16 sampai 17. Dimana lonjakan terebut dapat berkaitan dengan banyaknya aktivitas jumlah penggunaan sepeda dalam hal ini jumlah sepeda yang disewakan pada jam tersebut.\n",
    "- Jumlah sepeda yang disewakan sangat rendah pada jam 0-5.\n",
    "- Diantara jam 9-15 jumlah sepeda yang disewakan stabil.\n",
    "- Penyewa sepeda lebih banyak pengguna registered daripada casual."
   ]
  },
  {
   "cell_type": "markdown",
   "metadata": {
    "id": "9y4VUsmcYNZ5"
   },
   "source": [
    "## Analisis Lanjutan"
   ]
  },
  {
   "cell_type": "markdown",
   "metadata": {
    "id": "MFmiVOURKx7f"
   },
   "source": [
    "#### Pada Pertanyaan 1: Bagaimana distribusi peminjaman sepeda berdasarkan weathersit?\n",
    "Melakukan clustering manual pada variable cnt. Data dibagi menjadi tiga kelompok (kuartil) berdasarkan jumlah peminjaman sepeda (rendah, sedang, tinggi). Pengelompokan ini akan memudahkan dalam melihat pola antara kondisi cuaca dan tingkat peminjaman."
   ]
  },
  {
   "cell_type": "markdown",
   "metadata": {
    "id": "xMCPGIT-LJMk"
   },
   "source": [
    "Viualisasi menggunakan scatterplot untuk melihat distribusi peminjaman sepeda (cnt) berdasarkan weathersit dan hasil clustering kuartil yang telah dilakukan."
   ]
  },
  {
   "cell_type": "code",
   "execution_count": null,
   "metadata": {
    "colab": {
     "base_uri": "https://localhost:8080/",
     "height": 472
    },
    "id": "R_c5oMxVLNq6",
    "outputId": "11dbebfe-b687-45aa-ec81-0ee388c896c3"
   },
   "outputs": [],
   "source": [
    "day_df['Jumlah Penyewaan'] = pd.qcut(day_df['cnt'], q=3, labels=['Rendah', 'Sedang', 'Tinggi'])\n",
    "\n",
    "sns.scatterplot(x='weathersit', y='cnt', hue='Jumlah Penyewaan', data=day_df, palette='coolwarm')\n",
    "plt.title('Scatter Plot dari Jumlah Penyewaan dan Kondisi Cuaca (Weathersit)')\n",
    "plt.xlabel('Kodisi Cuaca (Weathersit)')\n",
    "plt.ylabel('Total Jumlah Penyewaan')\n",
    "plt.xticks([1, 2, 3, 4], ['Cerah', 'Berkabut', 'Hujan', 'Ekstrem'])\n",
    "plt.show()"
   ]
  },
  {
   "cell_type": "markdown",
   "metadata": {
    "id": "7s4a8ULVLSdx"
   },
   "source": [
    "Berdasarkan scatterplot di atas:\n",
    "- Kondisi cuaca cerah menunjukkan bahwa sebagian besar penyewaan terjadi di kondisi cuaca ini. Ini terlihat dari banyaknya titik yang terdistribusi pada kategori kondisi cuaca cerah.\n",
    "- Pada kondisi cuaca berkabut penyewaan sepeda juga cukup sering terjadi, namun tidak setinggi ketika kondisi cuaca cerah.\n",
    "- Pada kondisi cuaca hujan penyewaan sepeda cenderung berkurang drastis, dengan distribusi penyewaan rendah dan sedang.\n",
    "- Pada kondisi cuaca ekstrem tidak ada yang menyewa sepeda."
   ]
  },
  {
   "cell_type": "markdown",
   "metadata": {
    "id": "i6PvAvSgkTe2"
   },
   "source": [
    "#### Pada Pertanyaan 2: Bagaimana variasi penyewaan sepeda sepanjang hari?\n",
    "Melakukan clustering manual. Data dibagi menjadi tiga kelompok (kuartil) berdasarkan jumlah peminjaman sepeda (rendah, sedang, tinggi). Data hr juga akan dikelompokkan menjadi 5 (dini hari, pagi, siang, sore, malam). Visualisasi clustering menggunakan scatterplot."
   ]
  },
  {
   "cell_type": "code",
   "execution_count": null,
   "metadata": {
    "colab": {
     "base_uri": "https://localhost:8080/",
     "height": 357
    },
    "id": "GyAW-JcJaoKj",
    "outputId": "067e082e-5ddd-4828-ecda-227b73ff1264"
   },
   "outputs": [],
   "source": [
    "hourly_rentals = hour_df.groupby('hr')['cnt'].sum().reset_index()\n",
    "\n",
    "def categorize_hour(hr):\n",
    "    if 0 <= hr <= 4:\n",
    "        return 'Dini Hari'\n",
    "    elif 5 <= hr <= 11:\n",
    "        return 'Pagi'\n",
    "    elif 12 <= hr <= 15:\n",
    "        return 'Siang'\n",
    "    elif 16 <= hr <= 19:\n",
    "        return 'Sore'\n",
    "    else:\n",
    "        return 'Malam'\n",
    "\n",
    "hourly_rentals['time_of_day'] = hourly_rentals['hr'].apply(categorize_hour)\n",
    "hourly_rentals['Jumlah Penyewaan'] = pd.qcut(hourly_rentals['cnt'], 3, labels=['Rendah', 'Sedang', 'Tinggi'])\n",
    "\n",
    "plt.figure(figsize=(10, 5))\n",
    "sns.scatterplot(x='time_of_day', y='cnt', hue='Jumlah Penyewaan', data=hourly_rentals, palette='coolwarm', s=100)\n",
    "\n",
    "plt.title('Scatter Plot Jumlah Sepeda yang Disewakan Berdasarkan Waktu', fontsize=15)\n",
    "plt.xlabel('Waktu', fontsize=12)\n",
    "plt.ylabel('Jumlah Sepeda yang Disewa', fontsize=12)\n",
    "plt.grid(True)\n",
    "plt.show()\n"
   ]
  },
  {
   "cell_type": "markdown",
   "metadata": {
    "id": "fEkx8tpydjB1"
   },
   "source": [
    "Berdasrkan scatterplot di atas:\n",
    "- Pagi (5-11) dan sore (16-19) adalah puncak penyewaan sepeda.\n",
    "- Dini hari (0-4) dan malam (20-23) menunjukkan jumlah sepeda yang disewakan rendah, jumlah sepeda yang disewakan dini hari berada di kategori rendah, sedangkan malam rendah dan sedang.\n",
    "- Waktu siang (12-15) memiliki kategori penyewaan yang cukup tinggi mendekati pagi dan sore hari."
   ]
  },
  {
   "cell_type": "markdown",
   "metadata": {
    "id": "_WeHlCeX8DC2"
   },
   "source": [
    "## Conclusion"
   ]
  },
  {
   "cell_type": "markdown",
   "metadata": {
    "id": "ZTcyR48Y8DC2"
   },
   "source": [
    "- Conclution pertanyaan 1 (Bagaimana distribusi peminjaman sepeda berdasarkan weathersit?): Kondisi cuaca memiliki pengaruh yang signifikan terhadap jumlah penyewaan sepeda. Pengguna lebih banyak menyewa saat cuaca cerah, lalu berada di urutan kedua terbanyak adalah kondisi cuaca bekabut. Sedangkan penyewaan menurun drastis dalam kondisi cuaca hujan. Pada kondisi cuaca ekstrem tidak ada yang menyewa sepeda.\n",
    "- Conclution pertanyaan 2 (Bagaimana variasi penyewaan sepeda sepanjang hari?) : Waktu pagi (5-11) dan sore (16-19) paling tinggi dalam jumlah sepeda yang disewakan sehingga sangat penting untuk kapasitas maksimal sistem bike sharing, dengan waktu siang (12-15) juga memperlihatkan penggunaan bike sharing yang tinggi dan stabil. Redistribusi sepeda dan perawatan sistem pada dini hari (0-4) atau malam (20-23) dapat membantu memaksimalkan ketersediaan dan performa sistem karena pada jam tersebut termasuk rendah dan sedang dalam hal jumlah sepeda yang disewakan."
   ]
  }
 ],
 "metadata": {
  "colab": {
   "provenance": []
  },
  "kernelspec": {
   "display_name": "Python 3 (ipykernel)",
   "language": "python",
   "name": "python3"
  },
  "language_info": {
   "codemirror_mode": {
    "name": "ipython",
    "version": 3
   },
   "file_extension": ".py",
   "mimetype": "text/x-python",
   "name": "python",
   "nbconvert_exporter": "python",
   "pygments_lexer": "ipython3",
   "version": "3.12.4"
  },
  "vscode": {
   "interpreter": {
    "hash": "972b3bf27e332e87b5379f2791f6ef9dfc79c71018c370b0d7423235e20fe4d7"
   }
  }
 },
 "nbformat": 4,
 "nbformat_minor": 4
}
